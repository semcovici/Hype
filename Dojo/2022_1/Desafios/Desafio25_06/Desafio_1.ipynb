{
 "cells": [
  {
   "cell_type": "markdown",
   "metadata": {
    "id": "XLREHTGUp0fF"
   },
   "source": [
    "## Problema 1\n",
    "---\n",
    "'S' é uma string de caracteres minúsculos composta apenas por consoantes que serve como identificador de produtos em um loja. Por um erro no programa gerador de 'S', estão aparecendo vogais dentro dela, o que quebra os demais programas que dependem de 'S' só ter consoantes. <br><br>\n",
    "Você foi contratado para criar uma solução temporária para esse problema. Seu trabalho é criar um programa simples que conta o número de vogais em 'S', para que outra parte já pronta do sistema saiba quantas letras precisam ser retiradas. <br><br>\n",
    "Escreva este programa que conta o número de vogais dentro de 'S'. As vogais válidas são 'a', 'e', 'i', 'o' e 'u'. <br>\n",
    "Para o caso de 'S' ser 'azcbobobegghakl', seu programa deve printar: <br>\n",
    "> Número de vogais: 5"
   ]
  },
  {
   "cell_type": "code",
   "execution_count": 14,
   "metadata": {
    "id": "t4k-gQOMpozB"
   },
   "outputs": [
    {
     "name": "stdout",
     "output_type": "stream",
     "text": [
      "Número de vogais: 5\n"
     ]
    }
   ],
   "source": [
    "S = 'azcbobobegghakl' # mude S para testar seu programa\n",
    "\n",
    "# complete seu código aqui\n",
    "invalidas = ['a','e','i','o','u']\n",
    "cont = 0\n",
    "\n",
    "for x in S:\n",
    "    if x in invalidas: cont += 1\n",
    "    \n",
    "print('Número de vogais: ' + str(cont))\n",
    " "
   ]
  },
  {
   "cell_type": "code",
   "execution_count": null,
   "metadata": {},
   "outputs": [],
   "source": []
  }
 ],
 "metadata": {
  "colab": {
   "name": "Desafio_1.ipynb",
   "provenance": []
  },
  "kernelspec": {
   "display_name": "Python 3 (ipykernel)",
   "language": "python",
   "name": "python3"
  },
  "language_info": {
   "codemirror_mode": {
    "name": "ipython",
    "version": 3
   },
   "file_extension": ".py",
   "mimetype": "text/x-python",
   "name": "python",
   "nbconvert_exporter": "python",
   "pygments_lexer": "ipython3",
   "version": "3.10.4"
  }
 },
 "nbformat": 4,
 "nbformat_minor": 4
}
