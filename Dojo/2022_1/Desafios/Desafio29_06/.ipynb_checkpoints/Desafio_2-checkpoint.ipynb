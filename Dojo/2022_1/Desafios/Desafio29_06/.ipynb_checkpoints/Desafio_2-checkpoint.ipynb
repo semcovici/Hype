{
 "cells": [
  {
   "cell_type": "markdown",
   "metadata": {
    "id": "5f2MWikl6wRi"
   },
   "source": [
    "## Problema 2\n",
    "---\n",
    "O gerador de IDs do problema 1 foi consertado, ou quase isso. A empresa decidiu que vogais nas IDs não eram um problema e fizeram algumas mudanças nele. Isso simplificou a vida de muita gente, menos a sua.<br><br>\n",
    "\n",
    "Você foi encarregado de fazer testes com o novo gerador, sua tarefa é conferir se ele atende a uma regra de negócio específica: Os IDs gerados não podem ter muitas letras em ordem alfabética seguidas, aparentemente isso dá problema na criptografia dos identificadores em outro lugar do sistema, deixando-os muito fáceis de decifrar.<br><br>\n",
    "\n",
    "Escreva um programa que recebe uma ID, na forma de string de caracteres minúsculos com apenas letras, e retorna a maior sequência de caracteres (substring) em ordem alfabética.<br><br>\n",
    "\n",
    "#### Exemplos:\n",
    "- Para ID = 'azcbobobegghakl' retorne \n",
    "  > A maior substring em ordem alfabética é: 'begg'\n",
    "- Para ID = 'abcbcd' retorne \n",
    "  > A maior substring em ordem alfabética é: 'abc'\n",
    "\n"
   ]
  },
  {
   "cell_type": "code",
   "execution_count": 2,
   "metadata": {
    "colab": {
     "base_uri": "https://localhost:8080/"
    },
    "id": "drNwq96860CJ",
    "outputId": "9f82b722-63d5-4ef0-a32b-4fa8b62e3bc5"
   },
   "outputs": [
    {
     "data": {
      "text/plain": [
       "False"
      ]
     },
     "execution_count": 2,
     "metadata": {},
     "output_type": "execute_result"
    }
   ],
   "source": [
    "# strings para teste, seu programa deve passar em todos\n",
    "\n",
    "ID = 'lrjhrwobacfjlnbsgneog' # esperado 'acfjln'\n",
    "\n",
    "ID = 'bwrihebieofghi' # esperado 'fghi'\n",
    "\n",
    "ID = '' # esperado ''\n",
    "\n",
    "ID = 'abcdefghijklmnopqrstuvwxyz' # esperado 'abcdefghijklmnopqrstuvwxyz'\n",
    "\n",
    "# lembrete importante:\n",
    "# em python é possível comparar strings diretamente, cada letra possui um valor\n",
    "# ligado a sua posição no alfabeto, logo:\n",
    "\n",
    "'a' < 'b' # é True, visto que o 'b' vem depois do 'a'\n",
    "'c' < 'h' # também True, mesma lógica\n",
    "'f' < 'b' # false, 'f' tem um valor maior por vir depois"
   ]
  },
  {
   "cell_type": "code",
   "execution_count": 9,
   "metadata": {
    "id": "LJuDJmvaAI5-"
   },
   "outputs": [
    {
     "name": "stdin",
     "output_type": "stream",
     "text": [
      "Digite a ID aed\n"
     ]
    }
   ],
   "source": [
    "ID = input(\"Digite a ID\")\n",
    "\n",
    "def acharAlfabetica(ID):\n",
    "    \n",
    "    anterio = None\n",
    "    \n",
    "    for char in ID:\n",
    "        if not anterior: \n",
    "            anterior = char\n",
    "            continue\n",
    "            \n",
    "        if char >= anterior:\n",
    "            sub += char\n",
    "    print(sub)\n",
    "    print('nope')\n",
    "    "
   ]
  },
  {
   "cell_type": "code",
   "execution_count": null,
   "metadata": {},
   "outputs": [],
   "source": []
  }
 ],
 "metadata": {
  "colab": {
   "collapsed_sections": [],
   "name": "Desafio_2.ipynb",
   "provenance": []
  },
  "kernelspec": {
   "display_name": "Python 3 (ipykernel)",
   "language": "python",
   "name": "python3"
  },
  "language_info": {
   "codemirror_mode": {
    "name": "ipython",
    "version": 3
   },
   "file_extension": ".py",
   "mimetype": "text/x-python",
   "name": "python",
   "nbconvert_exporter": "python",
   "pygments_lexer": "ipython3",
   "version": "3.10.4"
  }
 },
 "nbformat": 4,
 "nbformat_minor": 4
}
