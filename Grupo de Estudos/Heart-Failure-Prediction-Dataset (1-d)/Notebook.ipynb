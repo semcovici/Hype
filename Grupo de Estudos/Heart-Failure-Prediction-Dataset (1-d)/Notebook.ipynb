{
 "cells": [
  {
   "cell_type": "markdown",
   "id": "965e81c6-3400-4267-9c46-b067f6f9e0a6",
   "metadata": {
    "jp-MarkdownHeadingCollapsed": true,
    "tags": []
   },
   "source": [
    "<h1>Heart Failure Prediction Dataset</h1>\n",
    "    <h3>Grupo de Estudos 1-d (2022_1) Hype</h3>\n",
    "        <p>\n",
    "    - <b>Enunciado:</b>   <a>https://www.kaggle.com/datasets/fedesoriano/heart-failure-prediction</a>   \n",
    "        </p>"
   ]
  },
  {
   "cell_type": "markdown",
   "id": "e7664d1d-caf4-40fa-86ad-77e3e8b1f53f",
   "metadata": {
    "tags": []
   },
   "source": [
    "<h1>Reunião 1 - 22/06</h1>"
   ]
  },
  {
   "cell_type": "code",
   "execution_count": null,
   "id": "3d863cda-d04e-4e4f-a68b-da8d9babf5c5",
   "metadata": {},
   "outputs": [],
   "source": [
    "import pandas as pd\n",
    "import numpy as np\n",
    "import matplotlib\n",
    "import matplotlib.pyplot as plt\n",
    "import matplotlib.ticker as mtick\n",
    "import matplotlib.gridspec as grid_spec\n",
    "import seaborn as sns"
   ]
  },
  {
   "cell_type": "code",
   "execution_count": null,
   "id": "3be30cce-aa7e-4cab-9469-300da579483b",
   "metadata": {},
   "outputs": [],
   "source": [
    "df = pd.read_csv(\"heart.csv\")\n",
    "df.head()"
   ]
  },
  {
   "cell_type": "code",
   "execution_count": null,
   "id": "ef162ee7-4ec4-4e80-9e3e-d57d6ae13f46",
   "metadata": {},
   "outputs": [],
   "source": [
    "df.info()"
   ]
  },
  {
   "cell_type": "code",
   "execution_count": null,
   "id": "eb619a6f-9c94-4433-8799-02a0cca4d0cf",
   "metadata": {},
   "outputs": [],
   "source": [
    "df.isnull().sum()"
   ]
  },
  {
   "cell_type": "code",
   "execution_count": null,
   "id": "3e36e908-0308-44f5-8497-a12d1487e545",
   "metadata": {},
   "outputs": [],
   "source": [
    "df.describe()"
   ]
  },
  {
   "cell_type": "code",
   "execution_count": null,
   "id": "911cf701-867a-4651-91a3-4b4e6df093de",
   "metadata": {},
   "outputs": [],
   "source": [
    "df.corr()"
   ]
  },
  {
   "cell_type": "code",
   "execution_count": null,
   "id": "a2515a70-433c-4486-ad7b-33d546667719",
   "metadata": {},
   "outputs": [],
   "source": [
    "# Correlação\n",
    "corr = df.corr()\n",
    "\n",
    "# Gera uma mascara para o tringulo superior formado pela \n",
    "# diagonal de \"uns\"\n",
    "\n",
    "# np.triu(m, k=0) -> retorna os arrays(m) com até a k-ésima casa zeradas \n",
    "# como pode se ver, na correlação, acima da diagonal mediana, \n",
    "# os dados se repetem, logo são inuteis\n",
    "\n",
    "# np.ones_like(a, dtype,...) -> retorna um array com os que possuem o\n",
    "#mesmo tipo do array a\n",
    "\n",
    "mask = np.triu(np.ones_like(corr, dtype=bool))\n",
    "\n",
    "# Set up the matplotlib figure\n",
    "f, ax = plt.subplots(figsize=(11, 9))\n",
    "\n",
    "# Generate a custom diverging colormap\n",
    "cmap = sns.diverging_palette(230, 20, as_cmap=True)\n",
    "\n",
    "# Draw the heatmap with the mask and correct aspect ratio\n",
    "sns.heatmap(corr, mask=mask, cmap=cmap, vmax=.3, center=0, square=True, linewidths=.5, cbar_kws={\"shrink\": .5})\n"
   ]
  },
  {
   "cell_type": "code",
   "execution_count": null,
   "id": "d5889df4-8b0d-4a7f-85c2-24152338daa4",
   "metadata": {},
   "outputs": [],
   "source": [
    "print(df.Sex.value_counts())\n",
    "sns.set_theme(style=\"darkgrid\")\n",
    "ax = sns.countplot(data=df, x=\"Sex\")\n",
    "plt.show()"
   ]
  },
  {
   "cell_type": "code",
   "execution_count": null,
   "id": "105e00d7-0ba0-446f-9aa7-d52332c777d8",
   "metadata": {},
   "outputs": [],
   "source": [
    "print(df.ChestPainType.value_counts())\n",
    "sns.set_theme(style=\"darkgrid\")\n",
    "ax = sns.countplot(data=df, x=\"ChestPainType\")\n",
    "plt.show()"
   ]
  },
  {
   "cell_type": "code",
   "execution_count": null,
   "id": "1eafb752-0084-4ecd-bc16-8617981702b4",
   "metadata": {},
   "outputs": [],
   "source": [
    "fig = plt.figure(figsize=(7,7))\n",
    "sns.displot(df.RestingBP, color=\"red\", label=\"RestingBP\", kde= True)\n",
    "plt.legend()\n",
    "#tirei o distplot pq deu um aviso de que será removida da lib"
   ]
  },
  {
   "cell_type": "code",
   "execution_count": null,
   "id": "c6f9f8d2-9d5b-4d0c-8e96-c7853837c4c7",
   "metadata": {},
   "outputs": [],
   "source": [
    "plt.figure(figsize=(10,8))\n",
    "\n",
    "sns.distplot(df[df['HeartDisease'] == 0][\"RestingBP\"], color='green') # No HeartDisease - green\n",
    "sns.distplot(df[df['HeartDisease'] == 1][\"RestingBP\"], color='red') # HeartDisease - Red\n",
    "\n",
    "plt.title('No HeartDisease vs HeartDisease by RestingBP', fontsize=15)\n",
    "plt.xlim([10,300])\n",
    "plt.show()"
   ]
  },
  {
   "cell_type": "code",
   "execution_count": null,
   "id": "3b080901-a32a-4a78-8b0e-d2a87edc4c92",
   "metadata": {},
   "outputs": [],
   "source": [
    "fig = plt.figure(figsize=(7,7))\n",
    "graph = sns.scatterplot(data=df, x=\"Age\", y=\"RestingBP\", hue='Sex')\n",
    "graph.axhline(y= 120, linewidth=4, color='r', linestyle= '--')\n",
    "plt.show()"
   ]
  },
  {
   "cell_type": "markdown",
   "id": "eac5b17d-a8a8-4ee1-92d8-e4412a1e1b98",
   "metadata": {},
   "source": [
    "<h2>Tarefas 22/06</h2>\n",
    "    <p> \n",
    "As tarefas que vamos discutir no próximo encontro:\n",
    "\n",
    "- Vamos iniciar com os modelos de aprendizado de máquina para tentar resolver o nosso problema \n",
    "\n",
    "- Estudar os modelos KNN, Árvore de Decisão e Random Forest \n",
    "\n",
    "- Codificar algo no Colab (pode ser com base no que eu fiz mas tbm com base no que viu no dojo)\n",
    "</p>"
   ]
  },
  {
   "cell_type": "markdown",
   "id": "3e95adc5-6b69-4237-a300-7b891e025f5f",
   "metadata": {
    "tags": []
   },
   "source": [
    "<h1>The k-Nearest Neighbors (kNN)</h1>\n",
    "    <p>Metodo baseado em distâncias. É uma técnica\n",
    "que considera a proximidade entre os dados na realização\n",
    "de predições</p> "
   ]
  },
  {
   "cell_type": "markdown",
   "id": "42d22f44-d866-4171-b023-f00fd91883a2",
   "metadata": {
    "tags": []
   },
   "source": [
    "<h3>Hipótese:</h3>\n",
    "    <p>Dados similares tendem a estar concentrados na mesma região no espaço\n",
    "de dispersão dos dados</p>\n",
    "    <h3>Intuição:</h3>\n",
    "    <p>Objetos relacionados ao mesmo conceito são semelhantes entre si</p>\n",
    "    <h3>Vantagem:</h3>\n",
    "    <p>Pode ser usado para classificação como para regressão, sem alterações significantes</p>\n",
    "    <h3>Passos do algoritmo:</h3>\n",
    "    <h4>Passo 1</h4>\n",
    "    <p>Calcule a distância euclidiana entre o novo objeto e todos os objetos</p>\n",
    "    <h4>Passo 2</h4>\n",
    "    <p>Ordena de forma ascendente as distâncias calculadas</p>\n",
    "    <h4>Passo 3</h4>\n",
    "    <p>Realiza a somatória das classes até 'k' exemplares</p>\n",
    "    <h4>Passo 4</h4>\n",
    "    <p>Classe ganhadora é atribuida ao novo objeto</p>\n",
    "    <h4>Dica</h4>\n",
    "    <p>- Escolha um valor 'k' impar, para evitar o empate entre classes</p>\n",
    "    <p>- Escolha um k pequeno</p>\n",
    "    <h3>Aplicação:</h3>\n",
    "    <p>\n",
    "    a. from sklearn.neighbors import KNeighborsClassifier<br><br>\n",
    "    b. knn = KNeighborsClassifier(n_neighbors=y), com y sendo o k-ésimo desejado<br><br>\n",
    "    c. knn.fit(Features,classes), com Features sendo o vetor de parâmetros(x,y,z,cor,etc) e classes o vetor de classes<br><br>\n",
    "    d. knn.predict(new_object), new_object sendo o novo objeto que queremos prever<br><br>\n",
    "    </p>"
   ]
  },
  {
   "cell_type": "markdown",
   "id": "04178e19-88a7-44f2-823a-463554f5fbcb",
   "metadata": {
    "tags": []
   },
   "source": [
    "<h1>Árvore de Decisão(Decision Tree)</h1>\n",
    "    <p>Metodo baseado em árvores. Aprendizagem de árvores de decisão é um dos métodos de \n",
    "aprendizagem mais práticos e mais utilizados para aprendizagem indutiva</p>"
   ]
  },
  {
   "cell_type": "markdown",
   "id": "0511f44b-f0f3-4f84-8a49-644a2377a27c",
   "metadata": {},
   "source": [
    "<h3>Características</h3>\n",
    "<ul>\n",
    "    <li>O conhecimento é baseado em árvores</li>\n",
    "    <li>Adquirem conhecimento simbólico a partir de dados de treinamento</li>\n",
    "    <li>Ampla classe de algoritmos de aprendizado. Exemplo:ID2,C4.5,Cart,...</li>\n",
    "    <li><b>Utiliza um viés indutivo:</b> Preferência por árvores menores(quanto menor a árvore,\n",
    "        melhor a indução do algoritmo)</li>\n",
    "    <li>Podem ser representadas como conjuntos de regras se-então(if-then)</li>\n",
    "</ul>"
   ]
  },
  {
   "cell_type": "markdown",
   "id": "232d8baf-ecbc-4216-9e91-5bffe6f30c6d",
   "metadata": {
    "tags": []
   },
   "source": [
    "<h1>Random Forest</h1>\n",
    "    <p></p>"
   ]
  },
  {
   "cell_type": "code",
   "execution_count": null,
   "id": "d8b06361-a3b9-4dd7-8907-0f688a2691a7",
   "metadata": {},
   "outputs": [],
   "source": []
  }
 ],
 "metadata": {
  "kernelspec": {
   "display_name": "Python 2.7.18 64-bit",
   "language": "python",
   "name": "python3"
  },
  "language_info": {
   "codemirror_mode": {
    "name": "ipython",
    "version": 3
   },
   "file_extension": ".py",
   "mimetype": "text/x-python",
   "name": "python",
   "nbconvert_exporter": "python",
   "pygments_lexer": "ipython3",
   "version": "2.7.18"
  },
  "vscode": {
   "interpreter": {
    "hash": "e55666fbbf217aa3df372b978577f47b6009e2f78e2ec76a584f49cd54a1e62c"
   }
  }
 },
 "nbformat": 4,
 "nbformat_minor": 5
}
